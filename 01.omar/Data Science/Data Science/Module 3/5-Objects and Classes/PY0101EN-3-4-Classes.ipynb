{
  "metadata": {
    "kernelspec": {
      "name": "python",
      "display_name": "Python (Pyodide)",
      "language": "python"
    },
    "language_info": {
      "codemirror_mode": {
        "name": "python",
        "version": 3
      },
      "file_extension": ".py",
      "mimetype": "text/x-python",
      "name": "python",
      "nbconvert_exporter": "python",
      "pygments_lexer": "ipython3",
      "version": "3.8"
    },
    "prev_pub_hash": "252ef91d0bb13b462b79b6278502193a9e4638b605666d4db9137145ed6a0d74"
  },
  "nbformat_minor": 4,
  "nbformat": 4,
  "cells": [
    {
      "cell_type": "markdown",
      "source": "<center>\n    <img src=\"https://cf-courses-data.s3.us.cloud-object-storage.appdomain.cloud/IBMDeveloperSkillsNetwork-PY0101EN-SkillsNetwork/IDSNlogo.png\" width=\"300\" alt=\"cognitiveclass.ai logo\">\n</center>\n\n# Classes and Objects in Python\n\nEstimated time needed: **40** minutes\n\n## Objectives\n\nAfter completing this lab you will be able to:\n\n*   Work with classes and objects\n*   Identify and define attributes and methods\n",
      "metadata": {}
    },
    {
      "cell_type": "markdown",
      "source": "<h2>Table of Contents</h2>\n<div class=\"alert alert-block alert-info\" style=\"margin-top: 20px\">\n    <ul>\n        <li>\n            <a href=\"#Introduction-to-Classes-and-Objects\">Introduction to Classes and Objects</a>\n            <ul>\n                <li><a href=\"#Creating-a-class\">Creating a class</a></li>\n                <li><a href=\"#Instances-of-a-Class:-Objects-and-Attributes\">Instances of a Class: Objects and Attributes</a></li>\n                <li><a href=\"#Methods\">Methods</a></li>\n            </ul>\n        </li>\n        <li><a href=\"#Creating-a-class\">Creating a class</a></li>\n        <li><a href=\"#Creating-an-instance-of-a-class-Circle\">Creating an instance of a class Circle</a></li>\n        <li><a href=\"#The-Rectangle-Class\">The Rectangle Class</a></li>\n    </ul>\n\n</div>\n\n<hr>\n",
      "metadata": {}
    },
    {
      "cell_type": "markdown",
      "source": "## Introduction to Classes and Objects\n",
      "metadata": {}
    },
    {
      "cell_type": "markdown",
      "source": "### Creating a Class\n",
      "metadata": {}
    },
    {
      "cell_type": "markdown",
      "source": "The first step in creating a class is giving it a name. In this notebook, we will create two classes: Circle and Rectangle. We need to determine all the data that make up that class, which we call <em>attributes</em>. Think about this step as creating a blue print that we will use to create objects. In figure 1 we see two classes, Circle and Rectangle. Each has their attributes, which are variables. The class Circle has the attribute radius and color, while the Rectangle class has the attribute height and width. Let’s use the visual examples of these shapes before we get to the code, as this will help you get accustomed to the vocabulary.\n",
      "metadata": {}
    },
    {
      "cell_type": "markdown",
      "source": "<img src=\"https://cf-courses-data.s3.us.cloud-object-storage.appdomain.cloud/IBMDeveloperSkillsNetwork-PY0101EN-SkillsNetwork/labs/Module%203/images/ClassesClass.png\" width=\"500\">\n",
      "metadata": {}
    },
    {
      "cell_type": "markdown",
      "source": "<i>Figure 1: Classes circle and rectangle, and each has their own attributes. The class Circle has the attribute radius and colour, the class Rectangle has the attributes height and width.</i>\n",
      "metadata": {}
    },
    {
      "cell_type": "markdown",
      "source": "### Instances of a Class: Objects and Attributes\n",
      "metadata": {}
    },
    {
      "cell_type": "markdown",
      "source": "An instance of an object is the realisation of a class, and in Figure 2 we see three instances of the class circle. We give each object a name: red circle, yellow circle, and green circle. Each object has different attributes, so let's focus on the color attribute for each object.\n",
      "metadata": {}
    },
    {
      "cell_type": "markdown",
      "source": "<img src=\"https://cf-courses-data.s3.us.cloud-object-storage.appdomain.cloud/IBMDeveloperSkillsNetwork-PY0101EN-SkillsNetwork/labs/Module%203/images/ClassesObj.png\" width=\"500\">\n",
      "metadata": {}
    },
    {
      "cell_type": "markdown",
      "source": "<i>Figure 2: Three instances of the class Circle, or three objects of type Circle.</i>\n",
      "metadata": {}
    },
    {
      "cell_type": "markdown",
      "source": "The colour attribute for the red Circle is the colour red, for the green Circle object the colour attribute is green, and for the yellow Circle the colour attribute is yellow.\n",
      "metadata": {}
    },
    {
      "cell_type": "markdown",
      "source": "### Methods\n",
      "metadata": {}
    },
    {
      "cell_type": "markdown",
      "source": "Methods give you a way to change or interact with the object; they are functions that interact with objects. For example, let’s say we would like to increase the radius of a circle by a specified amount. We can create a method called **add_radius(r)** that increases the radius by **r**. This is shown in figure 3, where after applying the method to the \"orange circle object\", the radius of the object increases accordingly. The “dot” notation means to apply the method to the object, which is essentially applying a function to the information in the object.\n",
      "metadata": {}
    },
    {
      "cell_type": "markdown",
      "source": "<img src=\"https://cf-courses-data.s3.us.cloud-object-storage.appdomain.cloud/IBMDeveloperSkillsNetwork-PY0101EN-SkillsNetwork/labs/Module%203/images/ClassesMethod.png\" width=\"500\"> \n",
      "metadata": {}
    },
    {
      "cell_type": "markdown",
      "source": "<i>Figure 3: Applying the method “add_radius” to the object orange circle object.</i>\n",
      "metadata": {}
    },
    {
      "cell_type": "markdown",
      "source": "<hr>\n",
      "metadata": {}
    },
    {
      "cell_type": "markdown",
      "source": "## Creating a Class\n",
      "metadata": {}
    },
    {
      "cell_type": "markdown",
      "source": "Now we are going to create a class Circle, but first, we are going to import a library to draw the objects:\n",
      "metadata": {}
    },
    {
      "cell_type": "code",
      "source": "# Import the library\n\nimport matplotlib.pyplot as plt\n%matplotlib inline  ",
      "metadata": {},
      "outputs": [],
      "execution_count": null
    },
    {
      "cell_type": "markdown",
      "source": "The first step in creating your own class is to use the <code>class</code> keyword, then the name of the class as shown in Figure 4. In this course the class parent will always be object:\n",
      "metadata": {}
    },
    {
      "cell_type": "markdown",
      "source": "<img src=\"https://cf-courses-data.s3.us.cloud-object-storage.appdomain.cloud/IBMDeveloperSkillsNetwork-PY0101EN-SkillsNetwork/labs/Module%203/images/ClassesDefine.png\" width=\"400\">\n",
      "metadata": {}
    },
    {
      "cell_type": "markdown",
      "source": "<i>Figure 4: Creating a class Circle.</i>\n",
      "metadata": {}
    },
    {
      "cell_type": "markdown",
      "source": "The next step is a special method called a constructor <code>\\__init\\_\\_</code>, which is used to initialize the object. The inputs are data attributes. The term <code>self</code> contains all the attributes in the set. For example the <code>self.color</code> gives the value of the attribute color and <code>self.radius</code> will give you the radius of the object. We also have the method <code>add_radius()</code> with the parameter <code>r</code>, the method adds the value of <code>r</code> to the attribute radius. To access the radius we use the syntax <code>self.radius</code>. The labeled syntax is summarized in Figure 5:\n",
      "metadata": {}
    },
    {
      "cell_type": "markdown",
      "source": "<img src=\"https://cf-courses-data.s3.us.cloud-object-storage.appdomain.cloud/IBMDeveloperSkillsNetwork-PY0101EN-SkillsNetwork/labs/Module%203/images/ClassesCircle.png\" width=\"600\">\n",
      "metadata": {}
    },
    {
      "cell_type": "markdown",
      "source": "<i>Figure 5: Labeled syntax of the object circle.</i>\n",
      "metadata": {}
    },
    {
      "cell_type": "markdown",
      "source": "The actual object is shown below. We include the method <code>drawCircle</code> to display the image of a circle. We set the default radius to 3 and the default colour to blue:\n",
      "metadata": {}
    },
    {
      "cell_type": "code",
      "source": "# Create a class Circle\n\nimport matplotlib.pyplot as plt\n\nclass RedCircle:\n    def __init__(self, radius=10, color='red'):\n        self.radius = radius  # Use the passed radius or default to 10\n        self.color = color    # Use the passed color or default to 'red'\n    \n    def drawcircle(self):\n        # Create a circle and add it to the current axes\n        plt.gca().add_patch(plt.Circle((0, 0), radius=self.radius, fc=self.color))\n        plt.axis('scaled')  # Ensure the aspect ratio is equal\n        plt.xlim(-self.radius-1, self.radius+1)  # Set limits for x-axis\n        plt.ylim(-self.radius-1, self.radius+1)  # Set limits for y-axis\n        plt.show()  # Display the circle\n\n# Example usage:\nmy_circle = RedCircle(radius=5)  # Create a RedCircle with radius 5\nmy_circle.drawcircle()  # Draw the circle",
      "metadata": {
        "trusted": true
      },
      "outputs": [],
      "execution_count": 2
    },
    {
      "cell_type": "code",
      "source": "import matplotlib.pyplot as plt\n\nclass RedCircle:\n    def __init__(self, radius=10, color='red'):\n        self.radius = radius  # Use the passed radius or default to 10\n        self.color = color    # Use the passed color or default to 'red'\n    \n    def drawcircle(self):\n        # Create a circle and add it to the current axes\n        plt.gca().add_patch(plt.Circle((0, 0), radius=self.radius, fc=self.color))\n        plt.axis('scaled')  # Ensure the aspect ratio is equal\n        plt.xlim(-self.radius-1, self.radius+1)  # Set limits for x-axis\n        plt.ylim(-self.radius-1, self.radius+1)  # Set limits for y-axis\n        plt.show()  # Display the circle\n\n# Example usage:\nmy_circle = RedCircle(radius=5)  # Create a RedCircle with radius 5\nmy_circle.drawcircle()  # Draw the circle",
      "metadata": {
        "trusted": true
      },
      "outputs": [
        {
          "output_type": "display_data",
          "data": {
            "text/plain": "<Figure size 640x480 with 1 Axes>",
            "image/png": "[encoded data removed]"
          },
          "metadata": {}
        }
      ],
      "execution_count": 1
    },
    {
      "cell_type": "markdown",
      "source": "<hr>\n",
      "metadata": {}
    },
    {
      "cell_type": "markdown",
      "source": "## Creating an instance of a class Circle\n",
      "metadata": {}
    },
    {
      "cell_type": "markdown",
      "source": "Let’s create the object <code>RedCircle</code> of type Circle to do the following:\n",
      "metadata": {}
    },
    {
      "cell_type": "code",
      "source": "# Create an object RedCircle\n#RedCircle = Circle(10, 'red')\n\nimport matplotlib.pyplot as plt\n\nclass RedCircle:\n    def __init__(self, radius=10, color='red'):\n        self.radius = radius  # Use the passed radius or default to 10\n        self.color = color    # Use the passed color or default to 'red'\n    \n    def drawcircle(self):\n        # Create a circle and add it to the current axes\n        plt.gca().add_patch(plt.Circle((0, 0), radius=self.radius, fc=self.color))\n        plt.axis('scaled')  # Ensure the aspect ratio is equal\n        plt.xlim(-self.radius-1, self.radius+1)  # Set limits for x-axis\n        plt.ylim(-self.radius-1, self.radius+1)  # Set limits for y-axis\n        plt.show()  # Display the circle\n\n# Example usage:\n\nmy_circle = RedCircle(radius=5)  # Create a RedCircle with radius 5\n\nmy_circle.drawcircle()  # Draw the circle",
      "metadata": {
        "trusted": true
      },
      "outputs": [
        {
          "output_type": "display_data",
          "data": {
            "text/plain": "<Figure size 640x480 with 1 Axes>",
            "image/png": "[encoded data removed]"
          },
          "metadata": {}
        }
      ],
      "execution_count": 4
    },
    {
      "cell_type": "markdown",
      "source": "We can use the <code>dir</code> command to get a list of the object's methods. Many of them are default Python methods.\n",
      "metadata": {}
    },
    {
      "cell_type": "code",
      "source": "# Find out the methods can be used on the object RedCircle\n\ndir(RedCircle)",
      "metadata": {
        "trusted": true
      },
      "outputs": [
        {
          "execution_count": 2,
          "output_type": "execute_result",
          "data": {
            "text/plain": "['__class__',\n '__delattr__',\n '__dict__',\n '__dir__',\n '__doc__',\n '__eq__',\n '__format__',\n '__ge__',\n '__getattribute__',\n '__getstate__',\n '__gt__',\n '__hash__',\n '__init__',\n '__init_subclass__',\n '__le__',\n '__lt__',\n '__module__',\n '__ne__',\n '__new__',\n '__reduce__',\n '__reduce_ex__',\n '__repr__',\n '__setattr__',\n '__sizeof__',\n '__str__',\n '__subclasshook__',\n '__weakref__',\n 'drawcircle']"
          },
          "metadata": {}
        }
      ],
      "execution_count": 2
    },
    {
      "cell_type": "markdown",
      "source": "We can look at the data attributes of the object:\n",
      "metadata": {}
    },
    {
      "cell_type": "code",
      "source": "# Print the object attribute radius\n\nRedCircle.radius",
      "metadata": {
        "trusted": true
      },
      "outputs": [
        {
          "ename": "<class 'NameError'>",
          "evalue": "name 'RedCircle' is not defined",
          "traceback": [
            "\u001b[0;31m---------------------------------------------------------------------------\u001b[0m",
            "\u001b[0;31mNameError\u001b[0m                                 Traceback (most recent call last)",
            "Cell \u001b[0;32mIn[1], line 3\u001b[0m\n\u001b[1;32m      1\u001b[0m \u001b[38;5;66;03m# Print the object attribute radius\u001b[39;00m\n\u001b[0;32m----> 3\u001b[0m \u001b[43mRedCircle\u001b[49m\u001b[38;5;241m.\u001b[39mradius\n",
            "\u001b[0;31mNameError\u001b[0m: name 'RedCircle' is not defined"
          ],
          "output_type": "error"
        }
      ],
      "execution_count": 1
    },
    {
      "cell_type": "code",
      "source": "# Print the object attribute color\n\nRedCircle.color",
      "metadata": {
        "trusted": true
      },
      "outputs": [
        {
          "ename": "<class 'AttributeError'>",
          "evalue": "type object 'RedCircle' has no attribute 'color'",
          "traceback": [
            "\u001b[0;31m---------------------------------------------------------------------------\u001b[0m",
            "\u001b[0;31mAttributeError\u001b[0m                            Traceback (most recent call last)",
            "Cell \u001b[0;32mIn[6], line 3\u001b[0m\n\u001b[1;32m      1\u001b[0m \u001b[38;5;66;03m# Print the object attribute color\u001b[39;00m\n\u001b[0;32m----> 3\u001b[0m \u001b[43mRedCircle\u001b[49m\u001b[38;5;241;43m.\u001b[39;49m\u001b[43mcolor\u001b[49m\n",
            "\u001b[0;31mAttributeError\u001b[0m: type object 'RedCircle' has no attribute 'color'"
          ],
          "output_type": "error"
        }
      ],
      "execution_count": 6
    },
    {
      "cell_type": "markdown",
      "source": "We can change the object's data attributes:\n",
      "metadata": {}
    },
    {
      "cell_type": "code",
      "source": "# Set the object attribute radius\n\nRedCircle.radius = 1\nRedCircle.radius",
      "metadata": {
        "trusted": true
      },
      "outputs": [
        {
          "ename": "<class 'NameError'>",
          "evalue": "name 'RedCircle' is not defined",
          "traceback": [
            "\u001b[0;31m---------------------------------------------------------------------------\u001b[0m",
            "\u001b[0;31mNameError\u001b[0m                                 Traceback (most recent call last)",
            "Cell \u001b[0;32mIn[2], line 3\u001b[0m\n\u001b[1;32m      1\u001b[0m \u001b[38;5;66;03m# Set the object attribute radius\u001b[39;00m\n\u001b[0;32m----> 3\u001b[0m \u001b[43mRedCircle\u001b[49m\u001b[38;5;241m.\u001b[39mradius \u001b[38;5;241m=\u001b[39m \u001b[38;5;241m1\u001b[39m\n\u001b[1;32m      4\u001b[0m RedCircle\u001b[38;5;241m.\u001b[39mradius\n",
            "\u001b[0;31mNameError\u001b[0m: name 'RedCircle' is not defined"
          ],
          "output_type": "error"
        }
      ],
      "execution_count": 2
    },
    {
      "cell_type": "markdown",
      "source": "We can draw the object by using the method <code>drawCircle()</code>:\n",
      "metadata": {}
    },
    {
      "cell_type": "code",
      "source": "# Call the method drawCircle\n\nRedCircle.drawCircle()",
      "metadata": {},
      "outputs": [],
      "execution_count": null
    },
    {
      "cell_type": "markdown",
      "source": "We can increase the radius of the circle by applying the method <code>add_radius()</code>. Let's increases the radius by 2 and then by 5:\n",
      "metadata": {}
    },
    {
      "cell_type": "code",
      "source": "# Use method to change the object attribute radius\n\nprint('Radius of object:',RedCircle.radius)\nRedCircle.add_radius(2)\nprint('Radius of object of after applying the method add_radius(2):',RedCircle.radius)\nRedCircle.add_radius(5)\nprint('Radius of object of after applying the method add_radius(5):',RedCircle.radius)",
      "metadata": {
        "trusted": true
      },
      "outputs": [
        {
          "ename": "<class 'NameError'>",
          "evalue": "name 'RedCircle' is not defined",
          "traceback": [
            "\u001b[0;31m---------------------------------------------------------------------------\u001b[0m",
            "\u001b[0;31mNameError\u001b[0m                                 Traceback (most recent call last)",
            "Cell \u001b[0;32mIn[3], line 3\u001b[0m\n\u001b[1;32m      1\u001b[0m \u001b[38;5;66;03m# Use method to change the object attribute radius\u001b[39;00m\n\u001b[0;32m----> 3\u001b[0m \u001b[38;5;28mprint\u001b[39m(\u001b[38;5;124m'\u001b[39m\u001b[38;5;124mRadius of object:\u001b[39m\u001b[38;5;124m'\u001b[39m,\u001b[43mRedCircle\u001b[49m\u001b[38;5;241m.\u001b[39mradius)\n\u001b[1;32m      4\u001b[0m RedCircle\u001b[38;5;241m.\u001b[39madd_radius(\u001b[38;5;241m2\u001b[39m)\n\u001b[1;32m      5\u001b[0m \u001b[38;5;28mprint\u001b[39m(\u001b[38;5;124m'\u001b[39m\u001b[38;5;124mRadius of object of after applying the method add_radius(2):\u001b[39m\u001b[38;5;124m'\u001b[39m,RedCircle\u001b[38;5;241m.\u001b[39mradius)\n",
            "\u001b[0;31mNameError\u001b[0m: name 'RedCircle' is not defined"
          ],
          "output_type": "error"
        }
      ],
      "execution_count": 3
    },
    {
      "cell_type": "markdown",
      "source": "Let’s create a blue circle. As the default colour is blue, all we have to do is specify what the radius is:\n",
      "metadata": {}
    },
    {
      "cell_type": "code",
      "source": "# Create a blue circle with a given radius\nclass Circle:\n    def __init__ (BlueCircle) = Circle(radius=100)",
      "metadata": {
        "trusted": true
      },
      "outputs": [
        {
          "ename": "<class 'SyntaxError'>",
          "evalue": "expected ':' (<ipython-input-10-2979a156d1c4>, line 3)",
          "traceback": [
            "\u001b[0;36m  Cell \u001b[0;32mIn[10], line 3\u001b[0;36m\u001b[0m\n\u001b[0;31m    def __init__ (BlueCircle) = Circle(radius=100)\u001b[0m\n\u001b[0m                              ^\u001b[0m\n\u001b[0;31mSyntaxError\u001b[0m\u001b[0;31m:\u001b[0m expected ':'\n"
          ],
          "output_type": "error"
        }
      ],
      "execution_count": 10
    },
    {
      "cell_type": "markdown",
      "source": "As before, we can access the attributes of the instance of the class by using the dot notation:\n",
      "metadata": {}
    },
    {
      "cell_type": "code",
      "source": "# Print the object attribute radius\n\nBlueCircle.radius",
      "metadata": {},
      "outputs": [],
      "execution_count": null
    },
    {
      "cell_type": "code",
      "source": "# Print the object attribute color\n\nBlueCircle.color",
      "metadata": {},
      "outputs": [],
      "execution_count": null
    },
    {
      "cell_type": "markdown",
      "source": "We can draw the object by using the method <code>drawCircle()</code>:\n",
      "metadata": {}
    },
    {
      "cell_type": "code",
      "source": "# Call the method drawCircle\n\nBlueCircle.drawCircle()",
      "metadata": {},
      "outputs": [],
      "execution_count": null
    },
    {
      "cell_type": "markdown",
      "source": "Compare the x and y axis of the figure to the figure for <code>RedCircle</code>; they are different.\n",
      "metadata": {}
    },
    {
      "cell_type": "markdown",
      "source": "<hr>\n",
      "metadata": {}
    },
    {
      "cell_type": "markdown",
      "source": "## The Rectangle Class\n",
      "metadata": {}
    },
    {
      "cell_type": "markdown",
      "source": "Let's create a class rectangle with the attributes of height, width, and color. We will only add the method to draw the rectangle object:\n",
      "metadata": {}
    },
    {
      "cell_type": "code",
      "source": "# Create a new Rectangle class for creating a rectangle object\nimport matplotlib.pyplot as plt\nclass Rectangle(object):\n    \n    # Constructor\n    def __init__(self, width=2, height=3, color='r'):\n        self.height = height \n        self.width = width\n        self.color = color\n    \n    # Method\n    def drawRectangle(self):\n        plt.gca().add_patch(plt.Rectangle((0, 0), self.width, self.height ,fc=self.color)) \n        plt.axis('scaled')\n        plt.show()\nmy_rectangle = Rectangle(width=5, height=4, color='orange')  # Create a Rectangle instance\nmy_rectangle.drawRectangle()        ",
      "metadata": {
        "trusted": true
      },
      "outputs": [
        {
          "output_type": "display_data",
          "data": {
            "text/plain": "<Figure size 640x480 with 1 Axes>",
            "image/png": "[encoded data removed]"
          },
          "metadata": {}
        }
      ],
      "execution_count": 15
    },
    {
      "cell_type": "markdown",
      "source": "Let’s create the object <code>SkinnyBlueRectangle</code> of type Rectangle. Its width will be 2 and height will be 3, and the color will be blue:\n",
      "metadata": {}
    },
    {
      "cell_type": "code",
      "source": "# Create a new object rectangle\n\nSkinnyBlueRectangle = Rectangle(2, 3, 'blue')",
      "metadata": {},
      "outputs": [],
      "execution_count": null
    },
    {
      "cell_type": "markdown",
      "source": "As before we can access the attributes of the instance of the class by using the dot notation:\n",
      "metadata": {}
    },
    {
      "cell_type": "code",
      "source": "# Print the object attribute height\n\nSkinnyBlueRectangle.height ",
      "metadata": {},
      "outputs": [],
      "execution_count": null
    },
    {
      "cell_type": "code",
      "source": "# Print the object attribute width\n\nSkinnyBlueRectangle.width",
      "metadata": {},
      "outputs": [],
      "execution_count": null
    },
    {
      "cell_type": "code",
      "source": "# Print the object attribute color\n\nSkinnyBlueRectangle.color",
      "metadata": {},
      "outputs": [],
      "execution_count": null
    },
    {
      "cell_type": "markdown",
      "source": "We can draw the object:\n",
      "metadata": {}
    },
    {
      "cell_type": "code",
      "source": "# Use the drawRectangle method to draw the shape\n\nSkinnyBlueRectangle.drawRectangle()",
      "metadata": {},
      "outputs": [],
      "execution_count": null
    },
    {
      "cell_type": "markdown",
      "source": "Let’s create the object <code>FatYellowRectangle</code> of type Rectangle:\n",
      "metadata": {}
    },
    {
      "cell_type": "code",
      "source": "# Create a new object rectangle\n\nFatYellowRectangle = Rectangle(20, 5, 'yellow')",
      "metadata": {},
      "outputs": [],
      "execution_count": null
    },
    {
      "cell_type": "markdown",
      "source": "We can access the attributes of the instance of the class by using the dot notation:\n",
      "metadata": {}
    },
    {
      "cell_type": "code",
      "source": "# Print the object attribute height\n\nFatYellowRectangle.height ",
      "metadata": {},
      "outputs": [],
      "execution_count": null
    },
    {
      "cell_type": "code",
      "source": "# Print the object attribute width\n\nFatYellowRectangle.width",
      "metadata": {},
      "outputs": [],
      "execution_count": null
    },
    {
      "cell_type": "code",
      "source": "# Print the object attribute color\n\nFatYellowRectangle.color",
      "metadata": {},
      "outputs": [],
      "execution_count": null
    },
    {
      "cell_type": "markdown",
      "source": "We can draw the object:\n",
      "metadata": {}
    },
    {
      "cell_type": "code",
      "source": "# Use the drawRectangle method to draw the shape\n\nFatYellowRectangle.drawRectangle()",
      "metadata": {},
      "outputs": [],
      "execution_count": null
    },
    {
      "cell_type": "markdown",
      "source": "<hr>\n",
      "metadata": {}
    },
    {
      "cell_type": "markdown",
      "source": "<center>\n    \n# Scenario: Car dealership's inventory management system\n\n</center>\n",
      "metadata": {}
    },
    {
      "cell_type": "markdown",
      "source": "You are working on a Python program to simulate a car dealership's inventory management system. The system aims to model cars and their attributes accurately.\n",
      "metadata": {}
    },
    {
      "cell_type": "markdown",
      "source": "### Task-1. You are tasked with creating a Python program to represent vehicles using a class. Each car should have attributes for maximum speed and mileage. \n",
      "metadata": {}
    },
    {
      "cell_type": "code",
      "source": "#Type your code here\nclass vehicles(object):\n    def __init__(self,max_speed,mileage)\n        self.max_speed=max_speed\n        self.mileage=mileage\n",
      "metadata": {},
      "outputs": [],
      "execution_count": null
    },
    {
      "cell_type": "markdown",
      "source": "<details><summary>Click here for the solution</summary>\n\n```python\n\nclass Vehicle:\n    def __init__(self, max_speed, mileage):\n        self.max_speed = max_speed\n        self.mileage = mileage\n        \n```\n\n</details>\n",
      "metadata": {}
    },
    {
      "cell_type": "markdown",
      "source": "### Task-2. Update the class with the default color for all vehicles,\" white\".\n",
      "metadata": {}
    },
    {
      "cell_type": "code",
      "source": "#Type your code here\nclass vehicles(object):\n    color=\"white\"\n    def __init__(self,max_speed,mileage):\n        self.max_speed=max_speed\n        self.mileage=mileage\n",
      "metadata": {
        "trusted": true
      },
      "outputs": [],
      "execution_count": 17
    },
    {
      "cell_type": "markdown",
      "source": "<details><summary>Click here for the solution</summary>\n\n```python\n\nclass Vehicle:\n    color = \"white\"\n\n    def __init__(self, max_speed, mileage):\n        self.max_speed = max_speed\n        self.mileage = mileage\n        \n```\n\n</details>\n",
      "metadata": {}
    },
    {
      "cell_type": "markdown",
      "source": "### Task-3. Additionally, you need to create methods in the Vehicle class to assign seating capacity to a vehicle. \n",
      "metadata": {}
    },
    {
      "cell_type": "code",
      "source": "#Type your code here\nclass vehicles(object):\n    color=\"white\"\n    def __init__(self,max_speed,mileage):\n        self.max_speed=max_speed\n        self.mileage=mileage\n        self.seating=None\n    def seating_cap(self,seating):\n        self.seating=seating",
      "metadata": {
        "trusted": true
      },
      "outputs": [],
      "execution_count": 18
    },
    {
      "cell_type": "markdown",
      "source": "<details><summary>Click here for the solution</summary>\n\n```python\n\nclass Vehicle:\n    color = \"white\"\n\n    def __init__(self, max_speed, mileage):\n        self.max_speed = max_speed\n        self.mileage = mileage\n        self.seating_capacity = None\n\n    def assign_seating_capacity(self, seating_capacity):\n        self.seating_capacity = seating_capacity\n```\n\n</details>\n",
      "metadata": {}
    },
    {
      "cell_type": "markdown",
      "source": "### Task-4. Create a method to display all the properties of an object of the class. \n",
      "metadata": {}
    },
    {
      "cell_type": "code",
      "source": "#Type your code here\n\nclass vehicles(object):\n    color=\"white\"\n    \n    def __init__(self,max_speed,mileage):\n        self.max_speed=max_speed\n        self.mileage=mileage\n        self.seating=None\n        self.model=None\n        \n    def seating_cap(self,seating):\n        self.seating=seating\n        \n    def car_model(self,model):\n        self.model=model\n   \n    def display(self): \n        print(\"Max Speed:\", self.max_speed)\n        print(\"Mileage:\", self.mileage)\n        print(\"Seating Capacity:\", self.seating)\n        print(\"Color:\",self.color)\n        print(\"Model:\",self.model)\n\ncar1=vehicles(200,20)\ncar1.seating_cap(5)\ncar1.car_model(\"Toyota\")\ncar1.color=\"blue\"\ncar1.display()\n\ncar2=vehicles(180,25)\ncar2.seating_cap(4)\ncar2.car_model(\"McLaren\")\ncar2.color=\"red\"\ncar2.display()",
      "metadata": {
        "trusted": true
      },
      "outputs": [
        {
          "name": "stdout",
          "text": "Max Speed: 200\nMileage: 20\nSeating Capacity: 5\nColor: blue\nModel: Toyota\nMax Speed: 180\nMileage: 25\nSeating Capacity: 4\nColor: red\nModel: McLaren\n",
          "output_type": "stream"
        }
      ],
      "execution_count": 47
    },
    {
      "cell_type": "markdown",
      "source": "<details><summary>Click here for the solution</summary>\n\n```python\nclass Vehicle:\n    color = \"white\"\n\n    def __init__(self, max_speed, mileage):\n        self.max_speed = max_speed\n        self.mileage = mileage\n        self.seating_capacity = None\n\n    def assign_seating_capacity(self, seating_capacity):\n        self.seating_capacity = seating_capacity\n\n    def display_properties(self):\n        print(\"Properties of the Vehicle:\")\n        print(\"Color:\", self.color)\n        print(\"Maximum Speed:\", self.max_speed)\n        print(\"Mileage:\", self.mileage)\n        print(\"Seating Capacity:\", self.seating_capacity)\n        \n```\n\n</details>\n",
      "metadata": {}
    },
    {
      "cell_type": "markdown",
      "source": "### Task-5. Additionally, you need to create two objects of the Vehicle class object that should have a max speed of 200kmph and mileage of 20kmpl with five seating capacities, and another car object should have a max speed of 180kmph and mileage of 25kmpl with four seating capacities.\n",
      "metadata": {}
    },
    {
      "cell_type": "code",
      "source": "#Type your code here\nclass Vehicle:\n    color = \"white\"\n\n    def __init__(self, max_speed, mileage):\n        self.max_speed = max_speed\n        self.mileage = mileage\n        self.seating_capacity = None\n\n    def assign_seating_capacity(self, seating_capacity):\n        self.seating_capacity = seating_capacity\n\n    def display_properties(self):\n        print(\"Properties of the Vehicle:\")\n        print(\"Color:\", self.color)\n        print(\"Maximum Speed:\", self.max_speed)\n        print(\"Mileage:\", self.mileage)\n        print(\"Seating Capacity:\", self.seating_capacity)\n\n# Creating objects of the Vehicle class\nvehicle1 = Vehicle(200, 20)\nvehicle1.assign_seating_capacity(5)\nvehicle1.display_properties()\n\nvehicle2 = Vehicle(180, 25)\nvehicle2.assign_seating_capacity(4)\nvehicle2.display_properties()",
      "metadata": {
        "trusted": true
      },
      "outputs": [
        {
          "name": "stdout",
          "text": "Properties of the Vehicle:\nColor: white\nMaximum Speed: 200\nMileage: 20\nSeating Capacity: 5\nProperties of the Vehicle:\nColor: white\nMaximum Speed: 180\nMileage: 25\nSeating Capacity: 4\n",
          "output_type": "stream"
        }
      ],
      "execution_count": 43
    },
    {
      "cell_type": "markdown",
      "source": "<details><summary>Click here for the solution</summary>\n\n```python\nclass Vehicle:\n    color = \"white\"\n\n    def __init__(self, max_speed, mileage):\n        self.max_speed = max_speed\n        self.mileage = mileage\n        self.seating_capacity = None\n\n    def assign_seating_capacity(self, seating_capacity):\n        self.seating_capacity = seating_capacity\n\n    def display_properties(self):\n        print(\"Properties of the Vehicle:\")\n        print(\"Color:\", self.color)\n        print(\"Maximum Speed:\", self.max_speed)\n        print(\"Mileage:\", self.mileage)\n        print(\"Seating Capacity:\", self.seating_capacity)\n\n# Creating objects of the Vehicle class\nvehicle1 = Vehicle(200, 20)\nvehicle1.assign_seating_capacity(5)\nvehicle1.display_properties()\n\nvehicle2 = Vehicle(180, 25)\nvehicle2.assign_seating_capacity(4)\nvehicle2.display_properties()\n\n```\n\n</details>\n",
      "metadata": {}
    },
    {
      "cell_type": "markdown",
      "source": "<hr>\n<h2>The last exercise!</h2>\n<p>Congratulations, you have completed your first lesson and hands-on lab in Python. \n<hr>\n",
      "metadata": {}
    },
    {
      "cell_type": "markdown",
      "source": "## Author\n\n<a href=\"https://www.linkedin.com/in/joseph-s-50398b136/?utm_medium=Exinfluencer&utm_source=Exinfluencer&utm_content=000026UJ&utm_term=10006555&utm_id=NA-SkillsNetwork-Channel-SkillsNetworkCoursesIBMDeveloperSkillsNetworkPY0101ENSkillsNetwork19487395-2021-01-01\">Joseph Santarcangelo</a>\n\n## Other contributors\n\n<a href=\"https://www.linkedin.com/in/jiahui-mavis-zhou-a4537814a?utm_medium=Exinfluencer&utm_source=Exinfluencer&utm_content=000026UJ&utm_term=10006555&utm_id=NA-SkillsNetwork-Channel-SkillsNetworkCoursesIBMDeveloperSkillsNetworkPY0101ENSkillsNetwork19487395-2021-01-01\">Mavis Zhou</a>\n\n\n## <h3 align=\"center\"> © IBM Corporation 2023. All rights reserved. <h3/>\n\n<!--## Change Log\n\n| Date (YYYY-MM-DD) | Version | Changed By | Change Description                 |\n| ----------------- | ------- | ---------- | ---------------------------------- |\n| 2023-11-02 | 2.3  | Abhishek Gagneja | Updated instructions |\n| 2023-05-16        | 2.2     |Akansha Yadav | updated lab under maintenance   |\n| 2022-01-10        | 2.1     | Malika     | Removed the readme for GitShare    |\n| 2020-08-26        | 2.0     | Lavanya    | Moved lab to course repo in GitLab |\n|                   |         |            |                                    |\n|                   |         |            |                                    |\n\n<hr/>\n\n--!>\n",
      "metadata": {}
    },
    {
      "cell_type": "code",
      "source": "",
      "metadata": {},
      "outputs": [],
      "execution_count": null
    }
  ]
}